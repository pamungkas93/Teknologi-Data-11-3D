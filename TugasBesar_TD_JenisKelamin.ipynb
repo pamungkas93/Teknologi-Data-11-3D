{
  "nbformat": 4,
  "nbformat_minor": 0,
  "metadata": {
    "colab": {
      "name": "TugasBesar_TD_JenisKelamin.ipynb",
      "provenance": [],
      "collapsed_sections": [],
      "include_colab_link": true
    },
    "kernelspec": {
      "name": "python3",
      "display_name": "Python 3"
    },
    "language_info": {
      "name": "python"
    }
  },
  "cells": [
    {
      "cell_type": "markdown",
      "metadata": {
        "id": "view-in-github",
        "colab_type": "text"
      },
      "source": [
        "<a href=\"https://colab.research.google.com/github/pamungkas93/Teknologi-Data-11-3D/blob/main/TugasBesar_TD_JenisKelamin.ipynb\" target=\"_parent\"><img src=\"https://colab.research.google.com/assets/colab-badge.svg\" alt=\"Open In Colab\"/></a>"
      ]
    },
    {
      "cell_type": "code",
      "metadata": {
        "colab": {
          "base_uri": "https://localhost:8080/"
        },
        "id": "rj6Q8WcrJPRt",
        "outputId": "9c35f6cd-7240-4c4e-d561-2fa61d7391ba"
      },
      "source": [
        "from google.colab import drive\n",
        "import pandas as pd\n",
        "drive.mount('/content/drive')\n",
        "# load data sets\n",
        "df = pd.read_csv(\"/content/drive/MyDrive/content/data-pemilih-kpu.csv\", encoding = 'utf-8-sig')"
      ],
      "execution_count": 3,
      "outputs": [
        {
          "output_type": "stream",
          "text": [
            "Drive already mounted at /content/drive; to attempt to forcibly remount, call drive.mount(\"/content/drive\", force_remount=True).\n"
          ],
          "name": "stdout"
        }
      ]
    },
    {
      "cell_type": "code",
      "metadata": {
        "colab": {
          "base_uri": "https://localhost:8080/",
          "height": 202
        },
        "id": "I6UcnIFVM0mz",
        "outputId": "86269578-1eb8-48b0-dd4b-4eb7ada5b517"
      },
      "source": [
        "df.head(5)"
      ],
      "execution_count": 4,
      "outputs": [
        {
          "output_type": "execute_result",
          "data": {
            "text/html": [
              "<div>\n",
              "<style scoped>\n",
              "    .dataframe tbody tr th:only-of-type {\n",
              "        vertical-align: middle;\n",
              "    }\n",
              "\n",
              "    .dataframe tbody tr th {\n",
              "        vertical-align: top;\n",
              "    }\n",
              "\n",
              "    .dataframe thead th {\n",
              "        text-align: right;\n",
              "    }\n",
              "</style>\n",
              "<table border=\"1\" class=\"dataframe\">\n",
              "  <thead>\n",
              "    <tr style=\"text-align: right;\">\n",
              "      <th></th>\n",
              "      <th>nama</th>\n",
              "      <th>jenis_kelamin</th>\n",
              "    </tr>\n",
              "  </thead>\n",
              "  <tbody>\n",
              "    <tr>\n",
              "      <th>0</th>\n",
              "      <td>ERWIN TJAHJONO</td>\n",
              "      <td>Laki-Laki</td>\n",
              "    </tr>\n",
              "    <tr>\n",
              "      <th>1</th>\n",
              "      <td>DAVIANDRIE ANDIKA BAHROENY</td>\n",
              "      <td>Laki-Laki</td>\n",
              "    </tr>\n",
              "    <tr>\n",
              "      <th>2</th>\n",
              "      <td>ELAN KURNIAWAN</td>\n",
              "      <td>Laki-Laki</td>\n",
              "    </tr>\n",
              "    <tr>\n",
              "      <th>3</th>\n",
              "      <td>AYU DWI CAHYANING MUKTI</td>\n",
              "      <td>Perempuan</td>\n",
              "    </tr>\n",
              "    <tr>\n",
              "      <th>4</th>\n",
              "      <td>WAHYOEDIN</td>\n",
              "      <td>Laki-Laki</td>\n",
              "    </tr>\n",
              "  </tbody>\n",
              "</table>\n",
              "</div>"
            ],
            "text/plain": [
              "                         nama jenis_kelamin\n",
              "0              ERWIN TJAHJONO     Laki-Laki\n",
              "1  DAVIANDRIE ANDIKA BAHROENY     Laki-Laki\n",
              "2              ELAN KURNIAWAN     Laki-Laki\n",
              "3     AYU DWI CAHYANING MUKTI     Perempuan\n",
              "4                   WAHYOEDIN     Laki-Laki"
            ]
          },
          "metadata": {
            "tags": []
          },
          "execution_count": 4
        }
      ]
    },
    {
      "cell_type": "code",
      "metadata": {
        "colab": {
          "base_uri": "https://localhost:8080/"
        },
        "id": "7rqQiXRSM7eK",
        "outputId": "957bad63-2320-4d05-ab2a-4ec868f58872"
      },
      "source": [
        "# mengecek apakah ada data yang null\n",
        "df.isnull().values.any()"
      ],
      "execution_count": 5,
      "outputs": [
        {
          "output_type": "execute_result",
          "data": {
            "text/plain": [
              "True"
            ]
          },
          "metadata": {
            "tags": []
          },
          "execution_count": 5
        }
      ]
    },
    {
      "cell_type": "code",
      "metadata": {
        "colab": {
          "base_uri": "https://localhost:8080/"
        },
        "id": "IKJRYJQeNRnN",
        "outputId": "e18f20bd-c808-4cba-b226-c24fd5cf714a"
      },
      "source": [
        "# menghapus baris null dan recheck kembali\n",
        "df = df.dropna(how='all')\n",
        "len(df[pd.isnull(df).any(axis=1)])"
      ],
      "execution_count": 6,
      "outputs": [
        {
          "output_type": "execute_result",
          "data": {
            "text/plain": [
              "0"
            ]
          },
          "metadata": {
            "tags": []
          },
          "execution_count": 6
        }
      ]
    },
    {
      "cell_type": "code",
      "metadata": {
        "colab": {
          "base_uri": "https://localhost:8080/"
        },
        "id": "WATSf_HdNZ99",
        "outputId": "91dbb814-6878-418c-a90c-b650b318fe93"
      },
      "source": [
        "# mengecek dimensi dataset\n",
        "df.shape"
      ],
      "execution_count": 7,
      "outputs": [
        {
          "output_type": "execute_result",
          "data": {
            "text/plain": [
              "(12950, 2)"
            ]
          },
          "metadata": {
            "tags": []
          },
          "execution_count": 7
        }
      ]
    },
    {
      "cell_type": "code",
      "metadata": {
        "id": "6PPB1iuSNdcA"
      },
      "source": [
        "# mengubah isi kolom jenis kelamin dari text menjadi integer (Laki-laki = 1; Perempuan= 0)\n",
        "jk_map = {\"Laki-Laki\" : 1, \"Perempuan\" : 0}\n",
        "df[\"jenis_kelamin\"] = df[\"jenis_kelamin\"].map(jk_map)"
      ],
      "execution_count": 8,
      "outputs": []
    },
    {
      "cell_type": "code",
      "metadata": {
        "colab": {
          "base_uri": "https://localhost:8080/",
          "height": 202
        },
        "id": "WhgKrqWeNkIX",
        "outputId": "8f0a528e-fa5e-405a-81f2-512b24649e0e"
      },
      "source": [
        "# cek kembali data apakah telah berubah\n",
        "df.head(5)"
      ],
      "execution_count": 9,
      "outputs": [
        {
          "output_type": "execute_result",
          "data": {
            "text/html": [
              "<div>\n",
              "<style scoped>\n",
              "    .dataframe tbody tr th:only-of-type {\n",
              "        vertical-align: middle;\n",
              "    }\n",
              "\n",
              "    .dataframe tbody tr th {\n",
              "        vertical-align: top;\n",
              "    }\n",
              "\n",
              "    .dataframe thead th {\n",
              "        text-align: right;\n",
              "    }\n",
              "</style>\n",
              "<table border=\"1\" class=\"dataframe\">\n",
              "  <thead>\n",
              "    <tr style=\"text-align: right;\">\n",
              "      <th></th>\n",
              "      <th>nama</th>\n",
              "      <th>jenis_kelamin</th>\n",
              "    </tr>\n",
              "  </thead>\n",
              "  <tbody>\n",
              "    <tr>\n",
              "      <th>0</th>\n",
              "      <td>ERWIN TJAHJONO</td>\n",
              "      <td>1</td>\n",
              "    </tr>\n",
              "    <tr>\n",
              "      <th>1</th>\n",
              "      <td>DAVIANDRIE ANDIKA BAHROENY</td>\n",
              "      <td>1</td>\n",
              "    </tr>\n",
              "    <tr>\n",
              "      <th>2</th>\n",
              "      <td>ELAN KURNIAWAN</td>\n",
              "      <td>1</td>\n",
              "    </tr>\n",
              "    <tr>\n",
              "      <th>3</th>\n",
              "      <td>AYU DWI CAHYANING MUKTI</td>\n",
              "      <td>0</td>\n",
              "    </tr>\n",
              "    <tr>\n",
              "      <th>4</th>\n",
              "      <td>WAHYOEDIN</td>\n",
              "      <td>1</td>\n",
              "    </tr>\n",
              "  </tbody>\n",
              "</table>\n",
              "</div>"
            ],
            "text/plain": [
              "                         nama  jenis_kelamin\n",
              "0              ERWIN TJAHJONO              1\n",
              "1  DAVIANDRIE ANDIKA BAHROENY              1\n",
              "2              ELAN KURNIAWAN              1\n",
              "3     AYU DWI CAHYANING MUKTI              0\n",
              "4                   WAHYOEDIN              1"
            ]
          },
          "metadata": {
            "tags": []
          },
          "execution_count": 9
        }
      ]
    },
    {
      "cell_type": "code",
      "metadata": {
        "colab": {
          "base_uri": "https://localhost:8080/"
        },
        "id": "zAaWaJ3GNoou",
        "outputId": "2a9cc10c-f8b2-472d-f880-1e9e1be61d6d"
      },
      "source": [
        "# Mengecek distribusi jenis kelamin pada dataset\n",
        "\n",
        "num_obs = len(df)\n",
        "num_true = len(df.loc[df['jenis_kelamin'] == 1])\n",
        "num_false = len(df.loc[df['jenis_kelamin'] == 0])\n",
        "print(\"Jumlah Pria:  {0} ({1:2.2f}%)\".format(num_true, (num_true/num_obs) * 100))\n",
        "print(\"Jumlah Wanita: {0} ({1:2.2f}%)\".format(num_false, (num_false/num_obs) * 100))"
      ],
      "execution_count": 10,
      "outputs": [
        {
          "output_type": "stream",
          "text": [
            "Jumlah Pria:  6162 (47.58%)\n",
            "Jumlah Wanita: 6788 (52.42%)\n"
          ],
          "name": "stdout"
        }
      ]
    },
    {
      "cell_type": "code",
      "metadata": {
        "id": "dcMJeP8dNwcx"
      },
      "source": [
        "from sklearn.model_selection import train_test_split\n",
        "\n",
        "feature_col_names = [\"nama\"]\n",
        "predicted_class_names = [\"jenis_kelamin\"]\n",
        "\n",
        "X = df[feature_col_names].values     \n",
        "y = df[predicted_class_names].values\n",
        "split_test_size = 0.30\n",
        "\n",
        "text_train, text_test, y_train, y_test = train_test_split(X, y, test_size=split_test_size, stratify=y, random_state=42)"
      ],
      "execution_count": 11,
      "outputs": []
    },
    {
      "cell_type": "code",
      "metadata": {
        "id": "tcnYvDU7Nz1-"
      },
      "source": [
        "#Dataset telah dipecah menjadi 2 bagian, mari kita cek distribusi nya."
      ],
      "execution_count": 13,
      "outputs": []
    },
    {
      "cell_type": "code",
      "metadata": {
        "colab": {
          "base_uri": "https://localhost:8080/"
        },
        "id": "KAQ8qj4SN08w",
        "outputId": "717719ff-59e8-4a89-8137-4929b443d2ea"
      },
      "source": [
        "print(\"Dataset Asli Pria       : {0} ({1:0.2f}%)\".format(len(df.loc[df['jenis_kelamin'] == 1]), (len(df.loc[df['jenis_kelamin'] == 1])/len(df.index)) * 100.0))\n",
        "print(\"Dataset Asli Wanita     : {0} ({1:0.2f}%)\".format(len(df.loc[df['jenis_kelamin'] == 0]), (len(df.loc[df['jenis_kelamin'] == 0])/len(df.index)) * 100.0))\n",
        "print(\"\")\n",
        "print(\"Dataset Training Pria   : {0} ({1:0.2f}%)\".format(len(y_train[y_train[:] == 1]), (len(y_train[y_train[:] == 1])/len(y_train) * 100.0)))\n",
        "print(\"Dataset Training Wanita : {0} ({1:0.2f}%)\".format(len(y_train[y_train[:] == 0]), (len(y_train[y_train[:] == 0])/len(y_train) * 100.0)))\n",
        "print(\"\")\n",
        "print(\"Dataset Test Pria       : {0} ({1:0.2f}%)\".format(len(y_test[y_test[:] == 1]), (len(y_test[y_test[:] == 1])/len(y_test) * 100.0)))\n",
        "print(\"Dataset Test Wanita     : {0} ({1:0.2f}%)\".format(len(y_test[y_test[:] == 0]), (len(y_test[y_test[:] == 0])/len(y_test) * 100.0)))\n",
        "\n"
      ],
      "execution_count": 14,
      "outputs": [
        {
          "output_type": "stream",
          "text": [
            "Dataset Asli Pria       : 6162 (47.58%)\n",
            "Dataset Asli Wanita     : 6788 (52.42%)\n",
            "\n",
            "Dataset Training Pria   : 4313 (47.58%)\n",
            "Dataset Training Wanita : 4752 (52.42%)\n",
            "\n",
            "Dataset Test Pria       : 1849 (47.59%)\n",
            "Dataset Test Wanita     : 2036 (52.41%)\n"
          ],
          "name": "stdout"
        }
      ]
    },
    {
      "cell_type": "code",
      "metadata": {
        "id": "rJYHuvc_N6Yn"
      },
      "source": [
        "from sklearn.feature_extraction.text import CountVectorizer\n",
        "\n",
        "vectorizer = CountVectorizer(analyzer = 'char_wb', ngram_range=(2,6))\n",
        "vectorizer.fit(text_train.ravel())\n",
        "\n",
        "X_train = vectorizer.transform(text_train.ravel())\n",
        "X_test = vectorizer.transform(text_test.ravel())"
      ],
      "execution_count": 15,
      "outputs": []
    },
    {
      "cell_type": "code",
      "metadata": {
        "colab": {
          "base_uri": "https://localhost:8080/"
        },
        "id": "AkeguZMgN_xX",
        "outputId": "df7840f3-843e-4ddf-f355-220ca8977b1f"
      },
      "source": [
        "from sklearn.linear_model import LogisticRegression\n",
        "\n",
        "clf = LogisticRegression()\n",
        "clf.fit(X_train, y_train.ravel())"
      ],
      "execution_count": 16,
      "outputs": [
        {
          "output_type": "execute_result",
          "data": {
            "text/plain": [
              "LogisticRegression(C=1.0, class_weight=None, dual=False, fit_intercept=True,\n",
              "                   intercept_scaling=1, l1_ratio=None, max_iter=100,\n",
              "                   multi_class='auto', n_jobs=None, penalty='l2',\n",
              "                   random_state=None, solver='lbfgs', tol=0.0001, verbose=0,\n",
              "                   warm_start=False)"
            ]
          },
          "metadata": {
            "tags": []
          },
          "execution_count": 16
        }
      ]
    },
    {
      "cell_type": "code",
      "metadata": {
        "colab": {
          "base_uri": "https://localhost:8080/"
        },
        "id": "iCcMEGOvOG9q",
        "outputId": "450a3649-2bfc-430e-b2e9-50842d62365f"
      },
      "source": [
        "# dataset training\n",
        "print(clf.score(X_train, y_train))\n",
        "\n",
        "# dataset test\n",
        "print(clf.score(X_test, y_test))"
      ],
      "execution_count": 17,
      "outputs": [
        {
          "output_type": "stream",
          "text": [
            "0.9965802537231109\n",
            "0.9366795366795366\n"
          ],
          "name": "stdout"
        }
      ]
    },
    {
      "cell_type": "code",
      "metadata": {
        "colab": {
          "base_uri": "https://localhost:8080/"
        },
        "id": "MZy0brW4OMSK",
        "outputId": "9306ffb0-a04d-4890-9533-754b01ec9832"
      },
      "source": [
        "from sklearn import metrics\n",
        "\n",
        "clf_predict = clf.predict(X_test)\n",
        "\n",
        "# training metrics\n",
        "print(\"Accuracy: {0:.4f}\".format(metrics.accuracy_score(y_test, clf_predict)))\n",
        "print(metrics.confusion_matrix(y_test, clf_predict, labels=[1, 0]) )\n",
        "print(\"\")\n",
        "print(\"Classification Report\")\n",
        "print(metrics.classification_report(y_test, clf_predict, labels=[1,0]))"
      ],
      "execution_count": 18,
      "outputs": [
        {
          "output_type": "stream",
          "text": [
            "Accuracy: 0.9367\n",
            "[[1727  122]\n",
            " [ 124 1912]]\n",
            "\n",
            "Classification Report\n",
            "              precision    recall  f1-score   support\n",
            "\n",
            "           1       0.93      0.93      0.93      1849\n",
            "           0       0.94      0.94      0.94      2036\n",
            "\n",
            "    accuracy                           0.94      3885\n",
            "   macro avg       0.94      0.94      0.94      3885\n",
            "weighted avg       0.94      0.94      0.94      3885\n",
            "\n"
          ],
          "name": "stdout"
        }
      ]
    },
    {
      "cell_type": "code",
      "metadata": {
        "colab": {
          "base_uri": "https://localhost:8080/"
        },
        "id": "9BZ-KganOOtH",
        "outputId": "c5c2223a-8e7b-4aa8-8e17-04773171dcd5"
      },
      "source": [
        "jk_label = {1:\"Laki-Laki\", 0:\"Perempuan\"}\n",
        "\n",
        "test_predict = vectorizer.transform([\"niky felina\"])\n",
        "res = clf.predict(test_predict)\n",
        "\n",
        "print(jk_label[int(res)])"
      ],
      "execution_count": 19,
      "outputs": [
        {
          "output_type": "stream",
          "text": [
            "Perempuan\n"
          ],
          "name": "stdout"
        }
      ]
    },
    {
      "cell_type": "markdown",
      "metadata": {
        "id": "rcormM1-PaQv"
      },
      "source": [
        "**Menggunkan Pipeline**"
      ]
    },
    {
      "cell_type": "code",
      "metadata": {
        "colab": {
          "base_uri": "https://localhost:8080/"
        },
        "id": "JmEPKAvKOTTW",
        "outputId": "7746700f-42a7-4755-9822-6664eb04db15"
      },
      "source": [
        "from sklearn.pipeline import Pipeline\n",
        "import numpy as np\n",
        "\n",
        "clf_lg = Pipeline([('vect', CountVectorizer(analyzer = 'char_wb', ngram_range=(2,6))),\n",
        "                     ('clf', LogisticRegression()),\n",
        "])\n",
        "_ = clf_lg.fit(text_train.ravel(), y_train.ravel())\n",
        "predicted = clf_lg.predict(text_test.ravel())\n",
        "np.mean(predicted == y_test.ravel())"
      ],
      "execution_count": 20,
      "outputs": [
        {
          "output_type": "execute_result",
          "data": {
            "text/plain": [
              "0.9366795366795366"
            ]
          },
          "metadata": {
            "tags": []
          },
          "execution_count": 20
        }
      ]
    },
    {
      "cell_type": "code",
      "metadata": {
        "colab": {
          "base_uri": "https://localhost:8080/"
        },
        "id": "_DvjA2eYO3vH",
        "outputId": "12c79d5e-6d7b-45f3-f9f9-8d4c532b82a1"
      },
      "source": [
        "result = clf_lg.predict([\"Muhammad Fatah\"])\n",
        "print(jk_label[result[0]])"
      ],
      "execution_count": 21,
      "outputs": [
        {
          "output_type": "stream",
          "text": [
            "Laki-Laki\n"
          ],
          "name": "stdout"
        }
      ]
    },
    {
      "cell_type": "markdown",
      "metadata": {
        "id": "XMJ35MRfPt8T"
      },
      "source": [
        "**Navi Bayes**\n"
      ]
    },
    {
      "cell_type": "code",
      "metadata": {
        "colab": {
          "base_uri": "https://localhost:8080/"
        },
        "id": "FHX5wjukP1fK",
        "outputId": "44303be9-df36-49f7-9264-fe6b8792a9d5"
      },
      "source": [
        "from sklearn.naive_bayes import MultinomialNB\n",
        "import numpy as np\n",
        "clf_nb = Pipeline([('vect', CountVectorizer(analyzer = 'char_wb', ngram_range=(2,6))),\n",
        "                     ('clf', MultinomialNB()),\n",
        "])\n",
        "\n",
        "clf_nb = clf_nb.fit(text_train.ravel(), y_train.ravel())\n",
        "predicted = clf_nb.predict(text_test.ravel())\n",
        "np.mean(predicted == y_test.ravel())"
      ],
      "execution_count": 22,
      "outputs": [
        {
          "output_type": "execute_result",
          "data": {
            "text/plain": [
              "0.9330759330759331"
            ]
          },
          "metadata": {
            "tags": []
          },
          "execution_count": 22
        }
      ]
    },
    {
      "cell_type": "code",
      "metadata": {
        "colab": {
          "base_uri": "https://localhost:8080/"
        },
        "id": "JNjlOf8jP-KJ",
        "outputId": "8428b5c2-2da6-4662-b85a-231ab53140d2"
      },
      "source": [
        "result = clf_nb.predict([\"Alifah Rahmah\"])\n",
        "print(jk_label[result[0]])"
      ],
      "execution_count": 23,
      "outputs": [
        {
          "output_type": "stream",
          "text": [
            "Perempuan\n"
          ],
          "name": "stdout"
        }
      ]
    },
    {
      "cell_type": "markdown",
      "metadata": {
        "id": "INBI3P8oQq1m"
      },
      "source": [
        "**Random Forest**"
      ]
    },
    {
      "cell_type": "code",
      "metadata": {
        "colab": {
          "base_uri": "https://localhost:8080/"
        },
        "id": "taEWRtxEQt1C",
        "outputId": "8a5fbcae-f842-4487-9d11-b431d876e220"
      },
      "source": [
        "from sklearn.ensemble import RandomForestClassifier\n",
        "import numpy as np\n",
        "clf_rf = Pipeline([('vect', CountVectorizer(analyzer = 'char_wb', ngram_range=(2,6))),\n",
        "                     ('clf', RandomForestClassifier(n_estimators=90, n_jobs=-1)),\n",
        "])\n",
        "\n",
        "clf_rf = clf_rf.fit(text_train.ravel(), y_train.ravel())\n",
        "predicted = clf_rf.predict(text_test.ravel())\n",
        "np.mean(predicted == y_test.ravel())"
      ],
      "execution_count": 24,
      "outputs": [
        {
          "output_type": "execute_result",
          "data": {
            "text/plain": [
              "0.9294723294723295"
            ]
          },
          "metadata": {
            "tags": []
          },
          "execution_count": 24
        }
      ]
    },
    {
      "cell_type": "code",
      "metadata": {
        "colab": {
          "base_uri": "https://localhost:8080/"
        },
        "id": "8Z3aZmY_Q38j",
        "outputId": "d69cfe8c-9a81-4c80-daa7-bb47c2f0cdf8"
      },
      "source": [
        "result = clf_rf.predict([\"Zain Ahmad\"])\n",
        "print(jk_label[result[0]])"
      ],
      "execution_count": 25,
      "outputs": [
        {
          "output_type": "stream",
          "text": [
            "Laki-Laki\n"
          ],
          "name": "stdout"
        }
      ]
    }
  ]
}